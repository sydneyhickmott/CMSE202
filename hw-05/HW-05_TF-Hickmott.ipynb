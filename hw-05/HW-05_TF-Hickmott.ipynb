{
 "cells": [
  {
   "cell_type": "markdown",
   "metadata": {},
   "source": [
    "### <p style=\"text-align: right;\"> &#9989; Sydney Hickmott</p>"
   ]
  },
  {
   "cell_type": "markdown",
   "metadata": {},
   "source": [
    "# CMSE Homework 05\n",
    "\n",
    "## Using Tensorflow/Keras for classification\n",
    "\n",
    "\n",
    "### Assignment instructions\n",
    "\n",
    "Work through the following assignment, making sure to follow all of the directions and answer all of the questions.\n",
    "\n",
    "There are 25 points possible on this assignment. Point values for each part are included in the section headers.\n",
    "\n",
    "This assignment is due roughly two weeks from now at 11:59 pm on **Friday Dec. 4th**. It should be uploaded into the \"Homework Assignments\" submission folder for Homework #5 in your D2L webpage. Submission instructions can be found at the end of the notebook.\n",
    "\n",
    "**Hint**: It is possible you are asked to do something you are not familiar with. That's why you have internet access. Do some smart searches and see what you can find! \n",
    "\n",
    "### Goals for this homework assignment\n",
    "\n",
    "The goal for this assignment is for you to learn about neural network implemented by __Tensorflow__ and __Keras__ to do some basic classification tasks. Unless you already have experience with Tensorflow or Keras or similar libraries, you will not understand everything about this right away. You probably haven't even installed Tensorflow yet. Don't worry, that is perfectly fine. We will walk through one example in detail. So don't worry if some steps seem arbitrary or look like magic to you! We've got to start somewhere.\n",
    "\n",
    "[Tensorflow](https://www.tensorflow.org/) is a free and open-source software library for machine learning. It is one of the most popular software package for training and inference of deep neural networks. [Keras](https://keras.io/) is the high-level API of TensorFlow 2.0. \n",
    "\n",
    "\n",
    "To get started, you need to set up the required software. You can follow the detailed instruction from the [installation guide of Tensorflow](https://www.tensorflow.org/install) which also includes Keras. In most cases, you can simply type\n",
    "\n",
    "`pip install --upgrade tensorflow`\n",
    "\n",
    "Now you are ready for action!\n",
    "\n",
    "__Note__ Following the installation guide, you should have installed Tensorflow V2.3.1, and   Numpy should be downgraded to V1.18.5. If you have trouble with installation or you run into issues with dead kernels, please check the versions of the packages installed and asked for help during help hours!\n",
    "\n",
    "Below is the import for this assignement."
   ]
  },
  {
   "cell_type": "code",
   "execution_count": 1,
   "metadata": {},
   "outputs": [],
   "source": [
    "## Our import\n",
    "import tensorflow as tf\n",
    "from tensorflow.keras.datasets import fashion_mnist\n",
    "from tensorflow.keras.datasets import mnist\n",
    "from tensorflow.keras.models import Sequential\n",
    "from tensorflow.keras.layers import Dense\n",
    "from tensorflow.keras.utils import to_categorical\n",
    "\n",
    "import numpy as np\n",
    "import pandas as pd\n",
    "import matplotlib.pyplot as plt\n",
    "%matplotlib inline\n"
   ]
  },
  {
   "cell_type": "markdown",
   "metadata": {},
   "source": [
    "---\n",
    "## Part 1. Adding notebook to your turn-in repository\n",
    "\n",
    "Like you did for Homework 3, you're going to add it to the CMSE202 repository you created in class so that you can track your progress on the assignment and preserve the final version that you turn in. In order to do this you need to:\n",
    "\n",
    "* Navigate to your /CMSE202/repos repository and create a new directory called hw-05.\n",
    "* Move this notebook into that new directory in your repository, then add it and commit it to your repository.\n",
    "   * Finally, to test that everything is working, \"git push\" the file so that it ends up in your GitHub repository.\n",
    "\n",
    "Important: Make sure you've added your TA as a collaborators to your respository with \"Read\" access so that we can see your assignment. (*If you did this for Homework 3, you do not need to do it again*)\n",
    "\n",
    "* Section 001: tuethan\n",
    "* Section 002: Luis-Polanco\n",
    "* Section 003: DavidRimel\n",
    "\n",
    "Also important: Make sure that the version of this notebook that you are working on is the same one that you just added to your repository! If you are working on a different copy of the notebook, none of your changes will be tracked.\n",
    "\n",
    "If everything went as intended, the file should now show up on your GitHub account CMSE202 repository under the hw-04 directory that you just created. Periodically, you'll be asked to commit your changes to the repository and push them to the remote GitHub location. Of course, you can always commit your changes more often than that, if you wish. It can be good to get into a habit of committing your changes any time you make a significant modification, or when you stop working on the project for a bit."
   ]
  },
  {
   "cell_type": "markdown",
   "metadata": {},
   "source": [
    "## Part 2: Classifying MNIST data (6 points)\n",
    "\n",
    "\n",
    "We will now walk through a concrete example of a neural network, which makes use of  Keras to learn to classify hand-written digits.\n",
    "\n",
    "The problem we are trying to solve here is to classify grayscale images of handwritten digits (28 pixels by 28 pixels), into their 10 \n",
    "categories (0 to 9). The dataset we will use is the MNIST dataset, a classic dataset in the machine learning community, which has been \n",
    "around for almost as long as the field itself and has been very intensively studied. It's a set of 60,000 training images, plus 10,000 test \n",
    "images, assembled by the National Institute of Standards and Technology (the NIST in MNIST) in the 1980s. You can think of \"solving\" MNIST \n",
    "as the \"Hello World\" of deep learning -- it's what you do to verify that your algorithms are working as expected. As you become a machine \n",
    "learning practitioner, you will see MNIST come up over and over again, in scientific papers, blog posts, and so on.\n",
    "\n",
    "The MNIST dataset comes pre-loaded in Keras, in the form of a set of four Numpy arrays:\n",
    "\n"
   ]
  },
  {
   "cell_type": "code",
   "execution_count": 2,
   "metadata": {},
   "outputs": [
    {
     "name": "stdout",
     "output_type": "stream",
     "text": [
      "Downloading data from https://storage.googleapis.com/tensorflow/tf-keras-datasets/mnist.npz\n",
      "11493376/11490434 [==============================] - 1s 0us/step\n"
     ]
    }
   ],
   "source": [
    "(train_images, train_labels), (test_images, test_labels)=mnist.load_data()"
   ]
  },
  {
   "cell_type": "markdown",
   "metadata": {},
   "source": [
    "`train_images` and `train_labels` form the \"training set\", the data that the model will learn from. The model will then be tested on the \n",
    "\"test set\", `test_images` and `test_labels`. Our images are encoded as Numpy arrays, and the labels are simply an array of digits, ranging \n",
    "from 0 to 9. There is a one-to-one correspondence between the images and the labels.\n",
    "\n",
    "Let's have a look at the training data:"
   ]
  },
  {
   "cell_type": "code",
   "execution_count": 3,
   "metadata": {},
   "outputs": [
    {
     "data": {
      "text/plain": [
       "(60000, 28, 28)"
      ]
     },
     "execution_count": 3,
     "metadata": {},
     "output_type": "execute_result"
    }
   ],
   "source": [
    "train_images.shape"
   ]
  },
  {
   "cell_type": "code",
   "execution_count": 4,
   "metadata": {
    "scrolled": true
   },
   "outputs": [
    {
     "data": {
      "text/plain": [
       "60000"
      ]
     },
     "execution_count": 4,
     "metadata": {},
     "output_type": "execute_result"
    }
   ],
   "source": [
    "len(train_labels)"
   ]
  },
  {
   "cell_type": "code",
   "execution_count": 5,
   "metadata": {},
   "outputs": [
    {
     "data": {
      "text/plain": [
       "array([5, 0, 4, ..., 5, 6, 8], dtype=uint8)"
      ]
     },
     "execution_count": 5,
     "metadata": {},
     "output_type": "execute_result"
    }
   ],
   "source": [
    "train_labels"
   ]
  },
  {
   "cell_type": "markdown",
   "metadata": {},
   "source": [
    "Let's have a look at the test data:"
   ]
  },
  {
   "cell_type": "code",
   "execution_count": 6,
   "metadata": {},
   "outputs": [
    {
     "data": {
      "text/plain": [
       "(10000, 28, 28)"
      ]
     },
     "execution_count": 6,
     "metadata": {},
     "output_type": "execute_result"
    }
   ],
   "source": [
    "test_images.shape"
   ]
  },
  {
   "cell_type": "code",
   "execution_count": 7,
   "metadata": {},
   "outputs": [
    {
     "data": {
      "text/plain": [
       "10000"
      ]
     },
     "execution_count": 7,
     "metadata": {},
     "output_type": "execute_result"
    }
   ],
   "source": [
    "len(test_labels)"
   ]
  },
  {
   "cell_type": "code",
   "execution_count": 8,
   "metadata": {},
   "outputs": [
    {
     "data": {
      "text/plain": [
       "array([7, 2, 1, ..., 4, 5, 6], dtype=uint8)"
      ]
     },
     "execution_count": 8,
     "metadata": {},
     "output_type": "execute_result"
    }
   ],
   "source": [
    "test_labels"
   ]
  },
  {
   "cell_type": "markdown",
   "metadata": {},
   "source": [
    "**Question 2.1 (1 points)** What is the size of the training and testing dataset for MNIST, respectively?"
   ]
  },
  {
   "cell_type": "markdown",
   "metadata": {},
   "source": [
    "<font size=8 color=\"#009600\">&#9998;</font> The training data has 60000 entries and the testing data has 10000 entries."
   ]
  },
  {
   "cell_type": "markdown",
   "metadata": {},
   "source": [
    "**Question 2.2 (2 points)** Make a histogram for the training label. Is this dataset balanced?"
   ]
  },
  {
   "cell_type": "code",
   "execution_count": 10,
   "metadata": {},
   "outputs": [
    {
     "data": {
      "text/plain": [
       "(array([ 980., 1135., 1032., 1010.,  982.,  892.,  958., 1028.,  974.,\n",
       "        1009.]),\n",
       " array([0. , 0.9, 1.8, 2.7, 3.6, 4.5, 5.4, 6.3, 7.2, 8.1, 9. ]),\n",
       " <a list of 10 Patch objects>)"
      ]
     },
     "execution_count": 10,
     "metadata": {},
     "output_type": "execute_result"
    },
    {
     "data": {
      "image/png": "[encoded data removed]",
      "text/plain": [
       "<Figure size 432x288 with 1 Axes>"
      ]
     },
     "metadata": {
      "needs_background": "light"
     },
     "output_type": "display_data"
    }
   ],
   "source": [
    "plt.hist(test_labels)"
   ]
  },
  {
   "cell_type": "markdown",
   "metadata": {},
   "source": [
    "The data is not perfectly balanced; however, each possible value has around 1000 entries."
   ]
  },
  {
   "cell_type": "markdown",
   "metadata": {},
   "source": [
    "We can also take a look at the individual images."
   ]
  },
  {
   "cell_type": "code",
   "execution_count": 11,
   "metadata": {},
   "outputs": [
    {
     "data": {
      "text/plain": [
       "1"
      ]
     },
     "execution_count": 11,
     "metadata": {},
     "output_type": "execute_result"
    },
    {
     "data": {
      "image/png": "[encoded data removed]",
      "text/plain": [
       "<Figure size 432x288 with 1 Axes>"
      ]
     },
     "metadata": {
      "needs_background": "light"
     },
     "output_type": "display_data"
    }
   ],
   "source": [
    "digit = train_images[6]\n",
    "plt.imshow(digit, cmap=plt.cm.binary)\n",
    "train_labels[6]"
   ]
  },
  {
   "cell_type": "markdown",
   "metadata": {},
   "source": [
    "\n",
    "Before training, we will preprocess our data by reshaping it into the shape that the network expects, and scaling it so that all values are in \n",
    "the `[0, 1]` interval. Previously, our training images for instance were stored in an array of shape `(60000, 28, 28)` of type `uint8` with \n",
    "values in the `[0, 255]` interval. We transform it into a `float32` array of shape `(60000, 28 * 28)` with values between 0 and 1."
   ]
  },
  {
   "cell_type": "code",
   "execution_count": 12,
   "metadata": {},
   "outputs": [],
   "source": [
    "train_images = train_images.reshape(train_images.shape[0],-1)/255.0\n",
    "test_images = test_images.reshape(test_images.shape[0],-1)/255.0"
   ]
  },
  {
   "cell_type": "markdown",
   "metadata": {},
   "source": [
    "We also need to categorically encode the labels."
   ]
  },
  {
   "cell_type": "code",
   "execution_count": 13,
   "metadata": {},
   "outputs": [],
   "source": [
    "train_labels = to_categorical(train_labels)\n",
    "test_labels = to_categorical(test_labels)"
   ]
  },
  {
   "cell_type": "markdown",
   "metadata": {},
   "source": [
    "Let’s start our neural network models.\n",
    "\n",
    "\n",
    "\n",
    "<img src=\"https://miro.medium.com/max/1400/1*K0D3JOZJUTxX4Q-9CpiALw.jpeg\" width= 800><p style=\"text-align: right;\">\n",
    "\n"
   ]
  },
  {
   "cell_type": "markdown",
   "metadata": {},
   "source": [
    "Our workflow will be as follow: first we will present our neural network with the training data, `train_images` and `train_labels`. The \n",
    "network will then learn to associate images and labels. Finally, we will ask the network to produce predictions for `test_images`, and we \n",
    "will verify if these predictions match the labels from `test_labels`.\n",
    "\n",
    "Let's build our network.\n",
    "\n"
   ]
  },
  {
   "cell_type": "code",
   "execution_count": 14,
   "metadata": {},
   "outputs": [],
   "source": [
    "network = Sequential()\n",
    "network.add(Dense(10, input_dim=784, activation='relu'))\n",
    "network.add(Dense(10, activation='softmax'))\n",
    "network.compile(optimizer='rmsprop',\n",
    "                loss='categorical_crossentropy',\n",
    "                metrics=['accuracy'])"
   ]
  },
  {
   "cell_type": "markdown",
   "metadata": {},
   "source": [
    "The Sequential model is the easiest model Keras has. The first line of `model.add` method is adding your hidden layer with 10 cells, coming from 784 input cells.\n",
    "\n",
    "The second add method is adding your output layer to the network. This has 10 cells.\n",
    "\n",
    "The Relu and Softmax activation options are non-linear. Being able to use non-linear data makes Neural Network particularly useful. Generally, neural networks can map any data distribution at any level of complexity.\n",
    "You don’t have to know what Relu and Softmax are.  You just need to follow these tips:\n",
    "1. Use Relu whenever possible, on every hidden layer.\n",
    "2. Use Softmax on output layers with more than two categories to be predicted.\n",
    "3. Use Sigmoid on an output layer with two categories.\n",
    "\n",
    "After creating your model, call `compile` method to finish your model. It usually takes three parameters. Always use `categorical_crossentropy` for multi-categories, and `binary_crossentropy` for two categories. Use `adam` or `rmsprop` as the optimizer since both of them are pretty good. And you need accuracy as the `metric` to check your network performance."
   ]
  },
  {
   "cell_type": "markdown",
   "metadata": {},
   "source": [
    "We are now ready to train our network, which in Keras is done via a call to the `fit` method of the network: \n",
    "we \"fit\" the model to its training data.  We will use 10% of the training data as the validation data, hence validation_split was set to 0.1."
   ]
  },
  {
   "cell_type": "code",
   "execution_count": 15,
   "metadata": {},
   "outputs": [
    {
     "name": "stdout",
     "output_type": "stream",
     "text": [
      "Epoch 1/20\n",
      "1688/1688 [==============================] - 1s 880us/step - loss: 0.5407 - accuracy: 0.8511 - val_loss: 0.2753 - val_accuracy: 0.9195\n",
      "Epoch 2/20\n",
      "1688/1688 [==============================] - 1s 761us/step - loss: 0.3142 - accuracy: 0.9108 - val_loss: 0.2401 - val_accuracy: 0.9343\n",
      "Epoch 3/20\n",
      "1688/1688 [==============================] - 1s 780us/step - loss: 0.2856 - accuracy: 0.9192 - val_loss: 0.2210 - val_accuracy: 0.9405\n",
      "Epoch 4/20\n",
      "1688/1688 [==============================] - 1s 797us/step - loss: 0.2699 - accuracy: 0.9257 - val_loss: 0.2148 - val_accuracy: 0.9413\n",
      "Epoch 5/20\n",
      "1688/1688 [==============================] - 1s 695us/step - loss: 0.2608 - accuracy: 0.9271 - val_loss: 0.2114 - val_accuracy: 0.9407\n",
      "Epoch 6/20\n",
      "1688/1688 [==============================] - 1s 732us/step - loss: 0.2543 - accuracy: 0.9294 - val_loss: 0.2029 - val_accuracy: 0.9432\n",
      "Epoch 7/20\n",
      "1688/1688 [==============================] - 1s 754us/step - loss: 0.2484 - accuracy: 0.9317 - val_loss: 0.2068 - val_accuracy: 0.9450\n",
      "Epoch 8/20\n",
      "1688/1688 [==============================] - 1s 780us/step - loss: 0.2441 - accuracy: 0.9325 - val_loss: 0.2052 - val_accuracy: 0.9437\n",
      "Epoch 9/20\n",
      "1688/1688 [==============================] - 2s 918us/step - loss: 0.2409 - accuracy: 0.9344 - val_loss: 0.2073 - val_accuracy: 0.9428\n",
      "Epoch 10/20\n",
      "1688/1688 [==============================] - 1s 757us/step - loss: 0.2367 - accuracy: 0.9346 - val_loss: 0.2004 - val_accuracy: 0.9468\n",
      "Epoch 11/20\n",
      "1688/1688 [==============================] - 1s 720us/step - loss: 0.2343 - accuracy: 0.9356 - val_loss: 0.1996 - val_accuracy: 0.9455\n",
      "Epoch 12/20\n",
      "1688/1688 [==============================] - 1s 717us/step - loss: 0.2308 - accuracy: 0.9367 - val_loss: 0.2101 - val_accuracy: 0.9415\n",
      "Epoch 13/20\n",
      "1688/1688 [==============================] - 1s 769us/step - loss: 0.2286 - accuracy: 0.9367 - val_loss: 0.1958 - val_accuracy: 0.9462\n",
      "Epoch 14/20\n",
      "1688/1688 [==============================] - 1s 879us/step - loss: 0.2257 - accuracy: 0.9382 - val_loss: 0.2038 - val_accuracy: 0.9453\n",
      "Epoch 15/20\n",
      "1688/1688 [==============================] - 1s 812us/step - loss: 0.2234 - accuracy: 0.9389 - val_loss: 0.2025 - val_accuracy: 0.9440\n",
      "Epoch 16/20\n",
      "1688/1688 [==============================] - 1s 757us/step - loss: 0.2222 - accuracy: 0.9391 - val_loss: 0.2032 - val_accuracy: 0.9437\n",
      "Epoch 17/20\n",
      "1688/1688 [==============================] - 1s 759us/step - loss: 0.2203 - accuracy: 0.9393 - val_loss: 0.1984 - val_accuracy: 0.9443\n",
      "Epoch 18/20\n",
      "1688/1688 [==============================] - 1s 757us/step - loss: 0.2194 - accuracy: 0.9406 - val_loss: 0.1997 - val_accuracy: 0.9442\n",
      "Epoch 19/20\n",
      "1688/1688 [==============================] - 1s 758us/step - loss: 0.2170 - accuracy: 0.9407 - val_loss: 0.2049 - val_accuracy: 0.9445\n",
      "Epoch 20/20\n",
      "1688/1688 [==============================] - 1s 762us/step - loss: 0.2168 - accuracy: 0.9408 - val_loss: 0.2006 - val_accuracy: 0.9445\n"
     ]
    }
   ],
   "source": [
    "history=network.fit(train_images, train_labels, epochs=20,  validation_split=0.1)"
   ]
  },
  {
   "cell_type": "markdown",
   "metadata": {},
   "source": [
    "Four quantities are being displayed during training: the \"loss\" of the network over the training and validation data, and the accuracy of the network over \n",
    "the training and validation data.\n",
    "\n",
    "`epoch` is the number of training loops we will do. One epoch will expose all of our training data once to the network. More epochs means the network will know better about our data.\n",
    "\n",
    "We can plot a history of training and validation loss and accuracy."
   ]
  },
  {
   "cell_type": "code",
   "execution_count": 16,
   "metadata": {},
   "outputs": [
    {
     "data": {
      "image/png": "[encoded data removed]",
      "text/plain": [
       "<Figure size 432x288 with 1 Axes>"
      ]
     },
     "metadata": {
      "needs_background": "light"
     },
     "output_type": "display_data"
    },
    {
     "data": {
      "image/png": "[encoded data removed]",
      "text/plain": [
       "<Figure size 432x288 with 1 Axes>"
      ]
     },
     "metadata": {
      "needs_background": "light"
     },
     "output_type": "display_data"
    }
   ],
   "source": [
    "plt.clf()   # clear figure\n",
    "\n",
    "loss = history.history['loss']\n",
    "val_loss = history.history['val_loss']\n",
    "\n",
    "epochs = range(1, len(loss) + 1)\n",
    "\n",
    "plt.plot(epochs, loss, 'bo', label='Training loss')\n",
    "plt.plot(epochs, val_loss, 'b', label='Validation loss')\n",
    "plt.title('Training and validation loss')\n",
    "plt.xlabel('Epochs')\n",
    "plt.ylabel('Loss')\n",
    "plt.legend()\n",
    "\n",
    "plt.show()\n",
    "\n",
    "acc = history.history['accuracy']\n",
    "val_acc = history.history['val_accuracy']\n",
    "epochs=range(1, len(acc)+1)\n",
    "\n",
    "plt.plot(epochs, acc, 'bo', label='Training acc')\n",
    "plt.plot(epochs, val_acc, 'b', label='Validation acc')\n",
    "plt.title('Training and validation accuracy')\n",
    "plt.xlabel('Epochs')\n",
    "plt.ylabel('Accuracy')\n",
    "plt.legend()\n",
    "\n",
    "plt.show()"
   ]
  },
  {
   "cell_type": "markdown",
   "metadata": {},
   "source": [
    "\n",
    "The dots are the training loss and accuracy, while the solid lines are the validation loss and accuracy. *Note that your own results may vary \n",
    "slightly due to a different random initialization of your network.*\n",
    "\n",
    "As you can see, the training loss decreases with every epoch and the training accuracy increases with every epoch. That's what you would \n",
    "expect when running gradient descent optimization -- the quantity you are trying to minimize should get lower with every iteration. But that \n",
    "isn't the case for the validation loss and accuracy: they seem to peak at the eleventh epoch.  What you are seeing is **overfitting**: after the 11th epoch, we are over-optimizing on the training data, and we \n",
    "ended up learning representations that are specific to the training data and do not generalize to data outside of the training set.\n",
    "\n",
    "In this case, to prevent overfitting, we could simply stop training after 10 epochs.\n",
    "\n",
    "**Question 2.3 (2 points)**  Let's train a new network from scratch for 10 epochs. "
   ]
  },
  {
   "cell_type": "code",
   "execution_count": 20,
   "metadata": {},
   "outputs": [],
   "source": [
    "### Put your code here ###\n",
    "\n",
    "# I don't think there is anything I am supposed to do here correct? The code that is needed is on the next line"
   ]
  },
  {
   "cell_type": "code",
   "execution_count": 18,
   "metadata": {},
   "outputs": [
    {
     "name": "stdout",
     "output_type": "stream",
     "text": [
      "Epoch 1/10\n",
      "1688/1688 [==============================] - 1s 854us/step - loss: 0.5699 - accuracy: 0.8383 - val_loss: 0.2760 - val_accuracy: 0.9227\n",
      "Epoch 2/10\n",
      "1688/1688 [==============================] - 1s 758us/step - loss: 0.3045 - accuracy: 0.9141 - val_loss: 0.2283 - val_accuracy: 0.9370\n",
      "Epoch 3/10\n",
      "1688/1688 [==============================] - 1s 754us/step - loss: 0.2782 - accuracy: 0.9221 - val_loss: 0.2216 - val_accuracy: 0.9355\n",
      "Epoch 4/10\n",
      "1688/1688 [==============================] - 1s 794us/step - loss: 0.2662 - accuracy: 0.9261 - val_loss: 0.2177 - val_accuracy: 0.9385\n",
      "Epoch 5/10\n",
      "1688/1688 [==============================] - 1s 769us/step - loss: 0.2592 - accuracy: 0.9280 - val_loss: 0.2148 - val_accuracy: 0.9382\n",
      "Epoch 6/10\n",
      "1688/1688 [==============================] - 1s 785us/step - loss: 0.2541 - accuracy: 0.9298 - val_loss: 0.2154 - val_accuracy: 0.9387\n",
      "Epoch 7/10\n",
      "1688/1688 [==============================] - 1s 789us/step - loss: 0.2502 - accuracy: 0.9303 - val_loss: 0.2145 - val_accuracy: 0.9387\n",
      "Epoch 8/10\n",
      "1688/1688 [==============================] - 1s 792us/step - loss: 0.2473 - accuracy: 0.9308 - val_loss: 0.2083 - val_accuracy: 0.9418\n",
      "Epoch 9/10\n",
      "1688/1688 [==============================] - 2s 942us/step - loss: 0.2448 - accuracy: 0.9325 - val_loss: 0.2091 - val_accuracy: 0.9405\n",
      "Epoch 10/10\n",
      "1688/1688 [==============================] - 2s 926us/step - loss: 0.2435 - accuracy: 0.9335 - val_loss: 0.2248 - val_accuracy: 0.9368\n"
     ]
    }
   ],
   "source": [
    "### Answer ###\n",
    "\n",
    "network = Sequential()\n",
    "network.add(Dense(10, input_dim=784, activation='relu'))\n",
    "network.add(Dense(10, activation='softmax'))\n",
    "network.compile(optimizer='rmsprop',\n",
    "                loss='categorical_crossentropy',\n",
    "                metrics=['accuracy'])\n",
    "history=network.fit(train_images, train_labels, epochs=10,  validation_split=0.1)"
   ]
  },
  {
   "cell_type": "markdown",
   "metadata": {},
   "source": [
    "We can now evaluate the result on our test data."
   ]
  },
  {
   "cell_type": "code",
   "execution_count": 19,
   "metadata": {},
   "outputs": [
    {
     "name": "stdout",
     "output_type": "stream",
     "text": [
      "313/313 [==============================] - 0s 597us/step - loss: 0.2684 - accuracy: 0.9261\n",
      "test_acc: 0.9261000156402588\n"
     ]
    }
   ],
   "source": [
    "test_loss, test_acc = network.evaluate(test_images, test_labels)\n",
    "print('test_acc:', test_acc)"
   ]
  },
  {
   "cell_type": "markdown",
   "metadata": {},
   "source": [
    "**Question 2.4 (1 points)**  Run the code above. What is the testing accuracy?"
   ]
  },
  {
   "cell_type": "markdown",
   "metadata": {},
   "source": [
    "<font size=8 color=\"#009600\">&#9998;</font> 0.926"
   ]
  },
  {
   "cell_type": "markdown",
   "metadata": {},
   "source": [
    "\n",
    "This concludes our very first example -- you just saw how we could build and a train a neural network to classify handwritten digits, in \n",
    "less than 20 lines of Python code!"
   ]
  },
  {
   "cell_type": "markdown",
   "metadata": {},
   "source": [
    "## Part 3: Classifying Fashion-MNIST data (19 points)\n",
    "\n",
    "\n",
    "We will now work on another dataset called fashion MNIST. Fashion MNIST is a dataset of ten categories of clothing and accessories, in grayscales. \n",
    "\n",
    "\n",
    "<img src=\"https://miro.medium.com/max/1400/1*9yRVzjQpH7LW8QWGbKFKww.png\" width= 800><p style=\"text-align: right;\">"
   ]
  },
  {
   "cell_type": "markdown",
   "metadata": {},
   "source": [
    "**Question 3.1 (2 points)**   Load the Fashion-MNIST dataset. *Hint: Keras has this dataset preloaded. Look at the import at the beginning of this notebook*"
   ]
  },
  {
   "cell_type": "code",
   "execution_count": 35,
   "metadata": {},
   "outputs": [],
   "source": [
    "### Put your code here ###\n",
    "(ftrain_images, ftrain_labels), (ftest_images, ftest_labels) = fashion_mnist.load_data()"
   ]
  },
  {
   "cell_type": "markdown",
   "metadata": {},
   "source": [
    "**Question 3.2 (3 points)** Explore the data. Find the size of the training and testing dataset. How many categories are in the labels?"
   ]
  },
  {
   "cell_type": "code",
   "execution_count": 36,
   "metadata": {},
   "outputs": [
    {
     "data": {
      "text/plain": [
       "(60000, 28, 28)"
      ]
     },
     "execution_count": 36,
     "metadata": {},
     "output_type": "execute_result"
    }
   ],
   "source": [
    "### Put your code here ###\n",
    "ftrain_images.shape"
   ]
  },
  {
   "cell_type": "code",
   "execution_count": 37,
   "metadata": {},
   "outputs": [
    {
     "data": {
      "text/plain": [
       "60000"
      ]
     },
     "execution_count": 37,
     "metadata": {},
     "output_type": "execute_result"
    }
   ],
   "source": [
    "len(ftrain_labels)"
   ]
  },
  {
   "cell_type": "code",
   "execution_count": 38,
   "metadata": {},
   "outputs": [
    {
     "data": {
      "text/plain": [
       "array([9, 0, 0, ..., 3, 0, 5], dtype=uint8)"
      ]
     },
     "execution_count": 38,
     "metadata": {},
     "output_type": "execute_result"
    }
   ],
   "source": [
    "ftrain_labels"
   ]
  },
  {
   "cell_type": "code",
   "execution_count": 53,
   "metadata": {},
   "outputs": [
    {
     "data": {
      "text/plain": [
       "(10000, 28, 28)"
      ]
     },
     "execution_count": 53,
     "metadata": {},
     "output_type": "execute_result"
    }
   ],
   "source": [
    "ftest_images.shape"
   ]
  },
  {
   "cell_type": "code",
   "execution_count": 40,
   "metadata": {},
   "outputs": [
    {
     "data": {
      "text/plain": [
       "10000"
      ]
     },
     "execution_count": 40,
     "metadata": {},
     "output_type": "execute_result"
    }
   ],
   "source": [
    "len(ftest_labels)"
   ]
  },
  {
   "cell_type": "code",
   "execution_count": 41,
   "metadata": {},
   "outputs": [
    {
     "data": {
      "text/plain": [
       "array([9, 2, 1, ..., 8, 1, 5], dtype=uint8)"
      ]
     },
     "execution_count": 41,
     "metadata": {},
     "output_type": "execute_result"
    }
   ],
   "source": [
    "ftest_labels"
   ]
  },
  {
   "cell_type": "code",
   "execution_count": 42,
   "metadata": {},
   "outputs": [
    {
     "data": {
      "text/plain": [
       "(array([1000., 1000., 1000., 1000., 1000., 1000., 1000., 1000., 1000.,\n",
       "        1000.]),\n",
       " array([0. , 0.9, 1.8, 2.7, 3.6, 4.5, 5.4, 6.3, 7.2, 8.1, 9. ]),\n",
       " <a list of 10 Patch objects>)"
      ]
     },
     "execution_count": 42,
     "metadata": {},
     "output_type": "execute_result"
    },
    {
     "data": {
      "image/png": "[encoded data removed]",
      "text/plain": [
       "<Figure size 432x288 with 1 Axes>"
      ]
     },
     "metadata": {
      "needs_background": "light"
     },
     "output_type": "display_data"
    }
   ],
   "source": [
    "plt.hist(ftest_labels)"
   ]
  },
  {
   "cell_type": "markdown",
   "metadata": {},
   "source": [
    "The training data has 60000 entries and the testing data has 10000 entries. It looks like there are 9 categories in the label data."
   ]
  },
  {
   "cell_type": "markdown",
   "metadata": {},
   "source": [
    "**Question 3.3 (2 points)** Plot the first couple of images in the training set and their labels. What do you observe?"
   ]
  },
  {
   "cell_type": "code",
   "execution_count": 47,
   "metadata": {},
   "outputs": [
    {
     "data": {
      "text/plain": [
       "9"
      ]
     },
     "execution_count": 47,
     "metadata": {},
     "output_type": "execute_result"
    },
    {
     "data": {
      "image/png": "[encoded data removed]",
      "text/plain": [
       "<Figure size 432x288 with 1 Axes>"
      ]
     },
     "metadata": {
      "needs_background": "light"
     },
     "output_type": "display_data"
    }
   ],
   "source": [
    "### Put your code here ###\n",
    "fashion = ftrain_images[0]\n",
    "plt.imshow(fashion, cmap=plt.cm.binary)\n",
    "ftrain_labels[0]"
   ]
  },
  {
   "cell_type": "code",
   "execution_count": 48,
   "metadata": {},
   "outputs": [
    {
     "data": {
      "text/plain": [
       "0"
      ]
     },
     "execution_count": 48,
     "metadata": {},
     "output_type": "execute_result"
    },
    {
     "data": {
      "image/png": "[encoded data removed]",
      "text/plain": [
       "<Figure size 432x288 with 1 Axes>"
      ]
     },
     "metadata": {
      "needs_background": "light"
     },
     "output_type": "display_data"
    }
   ],
   "source": [
    "fashion = ftrain_images[1]\n",
    "plt.imshow(fashion, cmap=plt.cm.binary)\n",
    "ftrain_labels[1]"
   ]
  },
  {
   "cell_type": "code",
   "execution_count": 51,
   "metadata": {},
   "outputs": [
    {
     "data": {
      "text/plain": [
       "0"
      ]
     },
     "execution_count": 51,
     "metadata": {},
     "output_type": "execute_result"
    },
    {
     "data": {
      "image/png": "[encoded data removed]",
      "text/plain": [
       "<Figure size 432x288 with 1 Axes>"
      ]
     },
     "metadata": {
      "needs_background": "light"
     },
     "output_type": "display_data"
    }
   ],
   "source": [
    "fashion = ftrain_images[2]\n",
    "plt.imshow(fashion, cmap=plt.cm.binary)\n",
    "ftrain_labels[2]"
   ]
  },
  {
   "cell_type": "code",
   "execution_count": 52,
   "metadata": {},
   "outputs": [
    {
     "data": {
      "text/plain": [
       "3"
      ]
     },
     "execution_count": 52,
     "metadata": {},
     "output_type": "execute_result"
    },
    {
     "data": {
      "image/png": "[encoded data removed]",
      "text/plain": [
       "<Figure size 432x288 with 1 Axes>"
      ]
     },
     "metadata": {
      "needs_background": "light"
     },
     "output_type": "display_data"
    }
   ],
   "source": [
    "fashion = ftrain_images[3]\n",
    "plt.imshow(fashion, cmap=plt.cm.binary)\n",
    "ftrain_labels[3]"
   ]
  },
  {
   "cell_type": "markdown",
   "metadata": {},
   "source": [
    "It looks like the second and third object share the same label even though their images do not look the same."
   ]
  },
  {
   "cell_type": "markdown",
   "metadata": {},
   "source": [
    "**Question 3.4 (2 points)** Now following the previous example of MNIST, reshape the dataset and categorically encode the labels."
   ]
  },
  {
   "cell_type": "code",
   "execution_count": 55,
   "metadata": {},
   "outputs": [],
   "source": [
    "ftrain_images = ftrain_images.reshape(ftrain_images.shape[0],-1)/255.0\n",
    "ftest_images = ftest_images.reshape(ftest_images.shape[0],-1)/255.0\n",
    "\n",
    "ftrain_labels = to_categorical(ftrain_labels)\n",
    "ftest_labels = to_categorical(ftest_labels)"
   ]
  },
  {
   "cell_type": "markdown",
   "metadata": {},
   "source": [
    "**Question 3.5 (5 points)** Build the network. Use the **same** network architecture and parameters as the MNIST example, and train with 10 epochs. What is the accuracy you see for this dataset? Do you observe overfitting during this training?"
   ]
  },
  {
   "cell_type": "code",
   "execution_count": 58,
   "metadata": {},
   "outputs": [
    {
     "name": "stdout",
     "output_type": "stream",
     "text": [
      "Epoch 1/10\n",
      "1688/1688 [==============================] - 2s 930us/step - loss: 1.8137 - accuracy: 0.4136 - val_loss: 1.3095 - val_accuracy: 0.5488\n",
      "Epoch 2/10\n",
      "1688/1688 [==============================] - 1s 753us/step - loss: 1.1047 - accuracy: 0.6321 - val_loss: 0.9460 - val_accuracy: 0.7052\n",
      "Epoch 3/10\n",
      "1688/1688 [==============================] - 1s 720us/step - loss: 0.8710 - accuracy: 0.7130 - val_loss: 0.7903 - val_accuracy: 0.7327\n",
      "Epoch 4/10\n",
      "1688/1688 [==============================] - 1s 720us/step - loss: 0.7553 - accuracy: 0.7384 - val_loss: 0.7109 - val_accuracy: 0.7492\n",
      "Epoch 5/10\n",
      "1688/1688 [==============================] - 1s 756us/step - loss: 0.6926 - accuracy: 0.7527 - val_loss: 0.6621 - val_accuracy: 0.7638\n",
      "Epoch 6/10\n",
      "1688/1688 [==============================] - 1s 774us/step - loss: 0.6544 - accuracy: 0.7630 - val_loss: 0.6330 - val_accuracy: 0.7697\n",
      "Epoch 7/10\n",
      "1688/1688 [==============================] - 1s 770us/step - loss: 0.6278 - accuracy: 0.7722 - val_loss: 0.6088 - val_accuracy: 0.7770\n",
      "Epoch 8/10\n",
      "1688/1688 [==============================] - 1s 851us/step - loss: 0.6072 - accuracy: 0.7803 - val_loss: 0.5908 - val_accuracy: 0.7838\n",
      "Epoch 9/10\n",
      "1688/1688 [==============================] - 1s 725us/step - loss: 0.5902 - accuracy: 0.7882 - val_loss: 0.5762 - val_accuracy: 0.7925\n",
      "Epoch 10/10\n",
      "1688/1688 [==============================] - 1s 749us/step - loss: 0.5756 - accuracy: 0.7942 - val_loss: 0.5635 - val_accuracy: 0.7955\n",
      "313/313 [==============================] - 0s 561us/step - loss: 0.5851 - accuracy: 0.7891\n",
      "fashion_test_acc: 0.7890999913215637\n"
     ]
    }
   ],
   "source": [
    "fnetwork = Sequential()\n",
    "fnetwork.add(Dense(10, input_dim = 784, activation = 'relu'))\n",
    "fnetwork.add(Dense(10, activation = 'softmax'))\n",
    "fnetwork.compile(optimizer = 'rmsprop',\n",
    "                loss = 'categorical_crossentropy',\n",
    "                metrics = ['accuracy'])\n",
    "\n",
    "fhistory = fnetwork.fit(ftrain_images, ftrain_labels, epochs = 10,  validation_split = 0.1)\n",
    "\n",
    "ftest_loss, ftest_acc = fnetwork.evaluate(ftest_images, ftest_labels)\n",
    "print('fashion_test_acc:', ftest_acc)"
   ]
  },
  {
   "cell_type": "markdown",
   "metadata": {},
   "source": [
    "The accuracy of this model is 0.789 which is not as high as the digits model. Overfitting is prevalent in this model."
   ]
  },
  {
   "cell_type": "markdown",
   "metadata": {},
   "source": [
    "You should have got a decent accuracy out of this dataset too, but not as high as the accuracy from the MNIST dataset, because the images here are more complicated. Now to improve the accuracy, you can try to widen/deepend the feedforward neural network. You are encouraged to look at the previous example and search on the internet on how to do that. As long as you see some improvement, it will be fine.\n",
    "\n",
    "**Question 3.6 (5 points)** Try changing the network architecture (deepen/widen the network) to improve the accuracy. What changes did you make? What accuracy did you get this time?"
   ]
  },
  {
   "cell_type": "code",
   "execution_count": 63,
   "metadata": {},
   "outputs": [
    {
     "name": "stdout",
     "output_type": "stream",
     "text": [
      "Epoch 1/30\n",
      "1688/1688 [==============================] - 1s 861us/step - loss: 1.8762 - accuracy: 0.3934 - val_loss: 1.3949 - val_accuracy: 0.5770\n",
      "Epoch 2/30\n",
      "1688/1688 [==============================] - 1s 763us/step - loss: 1.1825 - accuracy: 0.6015 - val_loss: 1.0176 - val_accuracy: 0.6365\n",
      "Epoch 3/30\n",
      "1688/1688 [==============================] - 1s 719us/step - loss: 0.9463 - accuracy: 0.6599 - val_loss: 0.8636 - val_accuracy: 0.6917\n",
      "Epoch 4/30\n",
      "1688/1688 [==============================] - 1s 729us/step - loss: 0.8312 - accuracy: 0.7035 - val_loss: 0.7748 - val_accuracy: 0.7218\n",
      "Epoch 5/30\n",
      "1688/1688 [==============================] - 1s 726us/step - loss: 0.7592 - accuracy: 0.7274 - val_loss: 0.7154 - val_accuracy: 0.7447\n",
      "Epoch 6/30\n",
      "1688/1688 [==============================] - 1s 749us/step - loss: 0.7102 - accuracy: 0.7419 - val_loss: 0.6769 - val_accuracy: 0.7550\n",
      "Epoch 7/30\n",
      "1688/1688 [==============================] - 1s 736us/step - loss: 0.6764 - accuracy: 0.7523 - val_loss: 0.6483 - val_accuracy: 0.7620\n",
      "Epoch 8/30\n",
      "1688/1688 [==============================] - 1s 769us/step - loss: 0.6516 - accuracy: 0.7604 - val_loss: 0.6276 - val_accuracy: 0.7692\n",
      "Epoch 9/30\n",
      "1688/1688 [==============================] - 1s 723us/step - loss: 0.6324 - accuracy: 0.7659 - val_loss: 0.6116 - val_accuracy: 0.7748\n",
      "Epoch 10/30\n",
      "1688/1688 [==============================] - 1s 743us/step - loss: 0.6167 - accuracy: 0.7729 - val_loss: 0.5978 - val_accuracy: 0.7822\n",
      "Epoch 11/30\n",
      "1688/1688 [==============================] - 1s 731us/step - loss: 0.6036 - accuracy: 0.7785 - val_loss: 0.5880 - val_accuracy: 0.7848\n",
      "Epoch 12/30\n",
      "1688/1688 [==============================] - 1s 731us/step - loss: 0.5919 - accuracy: 0.7840 - val_loss: 0.5782 - val_accuracy: 0.7858\n",
      "Epoch 13/30\n",
      "1688/1688 [==============================] - 1s 730us/step - loss: 0.5820 - accuracy: 0.7884 - val_loss: 0.5666 - val_accuracy: 0.7897\n",
      "Epoch 14/30\n",
      "1688/1688 [==============================] - 1s 719us/step - loss: 0.5727 - accuracy: 0.7925 - val_loss: 0.5602 - val_accuracy: 0.7922\n",
      "Epoch 15/30\n",
      "1688/1688 [==============================] - 1s 732us/step - loss: 0.5646 - accuracy: 0.7966 - val_loss: 0.5523 - val_accuracy: 0.7975\n",
      "Epoch 16/30\n",
      "1688/1688 [==============================] - 1s 718us/step - loss: 0.5571 - accuracy: 0.7998 - val_loss: 0.5468 - val_accuracy: 0.8028\n",
      "Epoch 17/30\n",
      "1688/1688 [==============================] - 1s 723us/step - loss: 0.5503 - accuracy: 0.8031 - val_loss: 0.5424 - val_accuracy: 0.8057\n",
      "Epoch 18/30\n",
      "1688/1688 [==============================] - 1s 726us/step - loss: 0.5440 - accuracy: 0.8052 - val_loss: 0.5349 - val_accuracy: 0.8060\n",
      "Epoch 19/30\n",
      "1688/1688 [==============================] - 1s 727us/step - loss: 0.5382 - accuracy: 0.8078 - val_loss: 0.5321 - val_accuracy: 0.8097\n",
      "Epoch 20/30\n",
      "1688/1688 [==============================] - 1s 746us/step - loss: 0.5329 - accuracy: 0.8099 - val_loss: 0.5245 - val_accuracy: 0.8142\n",
      "Epoch 21/30\n",
      "1688/1688 [==============================] - 1s 724us/step - loss: 0.5278 - accuracy: 0.8123 - val_loss: 0.5242 - val_accuracy: 0.8115\n",
      "Epoch 22/30\n",
      "1688/1688 [==============================] - 1s 749us/step - loss: 0.5231 - accuracy: 0.8143 - val_loss: 0.5169 - val_accuracy: 0.8173\n",
      "Epoch 23/30\n",
      "1688/1688 [==============================] - 1s 789us/step - loss: 0.5189 - accuracy: 0.8161 - val_loss: 0.5114 - val_accuracy: 0.8162\n",
      "Epoch 24/30\n",
      "1688/1688 [==============================] - 1s 811us/step - loss: 0.5146 - accuracy: 0.8181 - val_loss: 0.5087 - val_accuracy: 0.8180\n",
      "Epoch 25/30\n",
      "1688/1688 [==============================] - 1s 777us/step - loss: 0.5109 - accuracy: 0.8192 - val_loss: 0.5053 - val_accuracy: 0.8217\n",
      "Epoch 26/30\n",
      "1688/1688 [==============================] - 1s 775us/step - loss: 0.5072 - accuracy: 0.8209 - val_loss: 0.5039 - val_accuracy: 0.8242\n",
      "Epoch 27/30\n",
      "1688/1688 [==============================] - 1s 808us/step - loss: 0.5039 - accuracy: 0.8224 - val_loss: 0.5022 - val_accuracy: 0.8200\n",
      "Epoch 28/30\n",
      "1688/1688 [==============================] - 1s 812us/step - loss: 0.5007 - accuracy: 0.8239 - val_loss: 0.4971 - val_accuracy: 0.8257\n",
      "Epoch 29/30\n",
      "1688/1688 [==============================] - 1s 870us/step - loss: 0.4978 - accuracy: 0.8242 - val_loss: 0.4941 - val_accuracy: 0.8272\n",
      "Epoch 30/30\n",
      "1688/1688 [==============================] - 1s 794us/step - loss: 0.4948 - accuracy: 0.8252 - val_loss: 0.4946 - val_accuracy: 0.8298\n",
      "  1/313 [..............................] - ETA: 0s - loss: 0.6044 - accuracy: 0.7188WARNING:tensorflow:Callbacks method `on_test_batch_end` is slow compared to the batch time (batch time: 0.0000s vs `on_test_batch_end` time: 0.0010s). Check your callbacks.\n",
      "313/313 [==============================] - 0s 581us/step - loss: 0.5236 - accuracy: 0.8144\n",
      "fashion_test_acc: 0.8144000172615051\n"
     ]
    }
   ],
   "source": [
    "fnetwork = Sequential()\n",
    "fnetwork.add(Dense(10, input_dim = 784, activation = 'relu'))\n",
    "fnetwork.add(Dense(10, activation = 'softmax'))\n",
    "fnetwork.compile(optimizer = 'rmsprop',\n",
    "                loss = 'categorical_crossentropy',\n",
    "                metrics = ['accuracy'])\n",
    "\n",
    "fhistory = fnetwork.fit(ftrain_images, ftrain_labels, epochs = 30,  validation_split = 0.1)\n",
    "\n",
    "ftest_loss, ftest_acc = fnetwork.evaluate(ftest_images, ftest_labels)\n",
    "print('fashion_test_acc:', ftest_acc)"
   ]
  },
  {
   "cell_type": "markdown",
   "metadata": {},
   "source": [
    "By increasing the number of epochs from 10 to 30, I saw an increased accuracy of 0.814, which is higher than the original accuracy score."
   ]
  },
  {
   "cell_type": "markdown",
   "metadata": {},
   "source": [
    "Congratulations! You have learned about the basics of the Tensorflow package, which is a powerful tool for machine learning. There are tons of on-line resources about Tensorflow. You are encouraged to check them out when you have time."
   ]
  },
  {
   "cell_type": "markdown",
   "metadata": {},
   "source": [
    "---\n",
    "### Assignment wrap-up\n",
    "\n",
    "Please fill out the form that appears when you run the code below.  **You must completely fill this out in order to receive credit for the assignment!**"
   ]
  },
  {
   "cell_type": "code",
   "execution_count": 64,
   "metadata": {},
   "outputs": [
    {
     "data": {
      "text/html": [
       "\n",
       "<iframe \n",
       "\tsrc=\"https://docs.google.com/forms/d/e/1FAIpQLSf_RV7__hgMU1AEQXzWmKFZPMu_BmOppmTNA-rPkh3hQ40czA/viewform?usp=sf_link\" \n",
       "\twidth=\"800px\" \n",
       "\theight=\"600px\" \n",
       "\tframeborder=\"0\" \n",
       "\tmarginheight=\"0\" \n",
       "\tmarginwidth=\"0\">\n",
       "\tLoading...\n",
       "</iframe>\n"
      ],
      "text/plain": [
       "<IPython.core.display.HTML object>"
      ]
     },
     "execution_count": 64,
     "metadata": {},
     "output_type": "execute_result"
    }
   ],
   "source": [
    "from IPython.display import HTML\n",
    "HTML(\n",
    "\"\"\"\n",
    "<iframe \n",
    "\tsrc=\"https://docs.google.com/forms/d/e/1FAIpQLSf_RV7__hgMU1AEQXzWmKFZPMu_BmOppmTNA-rPkh3hQ40czA/viewform?usp=sf_link\" \n",
    "\twidth=\"800px\" \n",
    "\theight=\"600px\" \n",
    "\tframeborder=\"0\" \n",
    "\tmarginheight=\"0\" \n",
    "\tmarginwidth=\"0\">\n",
    "\tLoading...\n",
    "</iframe>\n",
    "\"\"\"\n",
    ")"
   ]
  },
  {
   "cell_type": "markdown",
   "metadata": {},
   "source": [
    "### Congratulations, you're done!\n",
    "\n",
    "Submit this assignment by uploading it to the course Desire2Learn web page.  Go to the \"Homework Assignments\" folder, find the dropbox link for Homework #5, and upload your notebook **and the script you wrote**."
   ]
  },
  {
   "cell_type": "code",
   "execution_count": null,
   "metadata": {},
   "outputs": [],
   "source": []
  }
 ],
 "metadata": {
  "kernelspec": {
   "display_name": "Python 3",
   "language": "python",
   "name": "python3"
  },
  "language_info": {
   "codemirror_mode": {
    "name": "ipython",
    "version": 3
   },
   "file_extension": ".py",
   "mimetype": "text/x-python",
   "name": "python",
   "nbconvert_exporter": "python",
   "pygments_lexer": "ipython3",
   "version": "3.8.3"
  }
 },
 "nbformat": 4,
 "nbformat_minor": 2
}
